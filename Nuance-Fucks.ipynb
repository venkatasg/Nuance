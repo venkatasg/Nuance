{
 "cells": [
  {
   "cell_type": "code",
   "execution_count": 1,
   "metadata": {},
   "outputs": [],
   "source": [
    "import pandas as pd\n",
    "import seaborn as sns\n",
    "import re\n",
    "from collections import Counter, defaultdict"
   ]
  },
  {
   "cell_type": "code",
   "execution_count": 2,
   "metadata": {},
   "outputs": [],
   "source": [
    "with open('anthology+abstracts.bib', 'r') as f:\n",
    "    acl = [x.replace('\\n', '') for x in re.split(\"\\n@\", f.read())]"
   ]
  },
  {
   "cell_type": "code",
   "execution_count": 3,
   "metadata": {},
   "outputs": [
    {
     "data": {
      "text/plain": [
       "'@proceedings{winlp-2020-widening,    title = \"Proceedings of the The Fourth Widening Natural Language Processing Workshop\",    editor = \"Cunha, Rossana  and      Shaikh, Samira  and      Varis, Erika  and      Georgi, Ryan  and      Tsai, Alicia  and      Anastasopoulos, Antonios  and      Chandu, Khyathi Raghavi\",    month = jul,    year = \"2020\",    address = \"Seattle, USA\",    publisher = \"Association for Computational Linguistics\",    url = \"https://www.aclweb.org/anthology/2020.winlp-1.0\",}'"
      ]
     },
     "execution_count": 3,
     "metadata": {},
     "output_type": "execute_result"
    }
   ],
   "source": [
    "acl[0]"
   ]
  },
  {
   "cell_type": "code",
   "execution_count": 4,
   "metadata": {},
   "outputs": [],
   "source": [
    "years_count = defaultdict(int)\n",
    "nuance_count = defaultdict(int)\n",
    "abstract_count = defaultdict(int)\n",
    "\n",
    "year_pattern = \"year = \\\"\\d\\d\\d\\d\\\"\\,\"\n",
    "nuance_pattern = \"(nuance|fine-grained|fine grain|fine-grain)\"\n",
    "abstract_pattern = \"abstract = \"\n",
    "\n",
    "for entry in acl:\n",
    "    year = int(''.join(filter(str.isdigit, re.search(year_pattern, entry).group(0))))\n",
    "    \n",
    "    years_count[year] += 1\n",
    "    \n",
    "    if re.search(nuance_pattern, entry):\n",
    "        nuance_count[year] += 1 \n",
    "    if re.search(abstract_pattern, entry):\n",
    "        abstract_count[year] += 1"
   ]
  },
  {
   "cell_type": "code",
   "execution_count": 5,
   "metadata": {},
   "outputs": [],
   "source": [
    "nuance_df = pd.DataFrame.from_dict(nuance_count, orient=\"index\")\n",
    "nuance_df = nuance_df.rename(columns={0:'Count'})\n",
    "nuance_df['Year'] = nuance_df.index"
   ]
  },
  {
   "cell_type": "code",
   "execution_count": 6,
   "metadata": {},
   "outputs": [
    {
     "data": {
      "text/html": [
       "<div>\n",
       "<style scoped>\n",
       "    .dataframe tbody tr th:only-of-type {\n",
       "        vertical-align: middle;\n",
       "    }\n",
       "\n",
       "    .dataframe tbody tr th {\n",
       "        vertical-align: top;\n",
       "    }\n",
       "\n",
       "    .dataframe thead th {\n",
       "        text-align: right;\n",
       "    }\n",
       "</style>\n",
       "<table border=\"1\" class=\"dataframe\">\n",
       "  <thead>\n",
       "    <tr style=\"text-align: right;\">\n",
       "      <th></th>\n",
       "      <th>Count</th>\n",
       "      <th>Year</th>\n",
       "    </tr>\n",
       "  </thead>\n",
       "  <tbody>\n",
       "    <tr>\n",
       "      <th>2020</th>\n",
       "      <td>81</td>\n",
       "      <td>2020</td>\n",
       "    </tr>\n",
       "    <tr>\n",
       "      <th>2019</th>\n",
       "      <td>127</td>\n",
       "      <td>2019</td>\n",
       "    </tr>\n",
       "    <tr>\n",
       "      <th>2018</th>\n",
       "      <td>75</td>\n",
       "      <td>2018</td>\n",
       "    </tr>\n",
       "    <tr>\n",
       "      <th>2017</th>\n",
       "      <td>62</td>\n",
       "      <td>2017</td>\n",
       "    </tr>\n",
       "    <tr>\n",
       "      <th>2016</th>\n",
       "      <td>43</td>\n",
       "      <td>2016</td>\n",
       "    </tr>\n",
       "    <tr>\n",
       "      <th>2015</th>\n",
       "      <td>3</td>\n",
       "      <td>2015</td>\n",
       "    </tr>\n",
       "    <tr>\n",
       "      <th>2014</th>\n",
       "      <td>11</td>\n",
       "      <td>2014</td>\n",
       "    </tr>\n",
       "    <tr>\n",
       "      <th>2012</th>\n",
       "      <td>14</td>\n",
       "      <td>2012</td>\n",
       "    </tr>\n",
       "    <tr>\n",
       "      <th>2010</th>\n",
       "      <td>17</td>\n",
       "      <td>2010</td>\n",
       "    </tr>\n",
       "    <tr>\n",
       "      <th>2009</th>\n",
       "      <td>1</td>\n",
       "      <td>2009</td>\n",
       "    </tr>\n",
       "    <tr>\n",
       "      <th>2008</th>\n",
       "      <td>8</td>\n",
       "      <td>2008</td>\n",
       "    </tr>\n",
       "    <tr>\n",
       "      <th>2006</th>\n",
       "      <td>6</td>\n",
       "      <td>2006</td>\n",
       "    </tr>\n",
       "    <tr>\n",
       "      <th>2004</th>\n",
       "      <td>1</td>\n",
       "      <td>2004</td>\n",
       "    </tr>\n",
       "    <tr>\n",
       "      <th>1991</th>\n",
       "      <td>2</td>\n",
       "      <td>1991</td>\n",
       "    </tr>\n",
       "    <tr>\n",
       "      <th>1989</th>\n",
       "      <td>1</td>\n",
       "      <td>1989</td>\n",
       "    </tr>\n",
       "  </tbody>\n",
       "</table>\n",
       "</div>"
      ],
      "text/plain": [
       "      Count  Year\n",
       "2020     81  2020\n",
       "2019    127  2019\n",
       "2018     75  2018\n",
       "2017     62  2017\n",
       "2016     43  2016\n",
       "2015      3  2015\n",
       "2014     11  2014\n",
       "2012     14  2012\n",
       "2010     17  2010\n",
       "2009      1  2009\n",
       "2008      8  2008\n",
       "2006      6  2006\n",
       "2004      1  2004\n",
       "1991      2  1991\n",
       "1989      1  1989"
      ]
     },
     "execution_count": 6,
     "metadata": {},
     "output_type": "execute_result"
    }
   ],
   "source": [
    "nuance_df"
   ]
  },
  {
   "cell_type": "code",
   "execution_count": 34,
   "metadata": {},
   "outputs": [],
   "source": [
    "percentage_nuance = {year: (nuance_count[year]/years_count[year]) for year in nuance_count.keys()}\n",
    "abspercent_nuance = {year: ((nuance_count[year]/abstract_count[year]) if abstract_count[year]!=0 else \n",
    "                                      (1)) for year in nuance_count.keys()}\n",
    "nuance_df.loc[:,\"Percent\"] = nuance_df['Year'].apply(lambda x: (percentage_nuance[x])*100)\n",
    "nuance_df.loc[:,\"absPercent\"] = nuance_df['Year'].apply(lambda x: (abspercent_nuance[x])*100)"
   ]
  },
  {
   "cell_type": "code",
   "execution_count": 54,
   "metadata": {},
   "outputs": [
    {
     "name": "stdout",
     "output_type": "stream",
     "text": [
      "642 670 2734 3138\n"
     ]
    }
   ],
   "source": [
    "print(abstract_count[2010], abstract_count[2012], years_count[2010], years_count[2012])"
   ]
  },
  {
   "cell_type": "code",
   "execution_count": 38,
   "metadata": {},
   "outputs": [
    {
     "data": {
      "text/html": [
       "<div>\n",
       "<style scoped>\n",
       "    .dataframe tbody tr th:only-of-type {\n",
       "        vertical-align: middle;\n",
       "    }\n",
       "\n",
       "    .dataframe tbody tr th {\n",
       "        vertical-align: top;\n",
       "    }\n",
       "\n",
       "    .dataframe thead th {\n",
       "        text-align: right;\n",
       "    }\n",
       "</style>\n",
       "<table border=\"1\" class=\"dataframe\">\n",
       "  <thead>\n",
       "    <tr style=\"text-align: right;\">\n",
       "      <th></th>\n",
       "      <th>Count</th>\n",
       "      <th>Year</th>\n",
       "      <th>Percent</th>\n",
       "      <th>absPercent</th>\n",
       "    </tr>\n",
       "  </thead>\n",
       "  <tbody>\n",
       "    <tr>\n",
       "      <th>2020</th>\n",
       "      <td>81</td>\n",
       "      <td>2020</td>\n",
       "      <td>3.043968</td>\n",
       "      <td>3.121387</td>\n",
       "    </tr>\n",
       "    <tr>\n",
       "      <th>2019</th>\n",
       "      <td>127</td>\n",
       "      <td>2019</td>\n",
       "      <td>2.709044</td>\n",
       "      <td>3.044833</td>\n",
       "    </tr>\n",
       "    <tr>\n",
       "      <th>2018</th>\n",
       "      <td>75</td>\n",
       "      <td>2018</td>\n",
       "      <td>1.655629</td>\n",
       "      <td>2.227502</td>\n",
       "    </tr>\n",
       "    <tr>\n",
       "      <th>2017</th>\n",
       "      <td>62</td>\n",
       "      <td>2017</td>\n",
       "      <td>1.858513</td>\n",
       "      <td>2.448657</td>\n",
       "    </tr>\n",
       "    <tr>\n",
       "      <th>2016</th>\n",
       "      <td>43</td>\n",
       "      <td>2016</td>\n",
       "      <td>1.074731</td>\n",
       "      <td>2.520516</td>\n",
       "    </tr>\n",
       "    <tr>\n",
       "      <th>2015</th>\n",
       "      <td>3</td>\n",
       "      <td>2015</td>\n",
       "      <td>0.108225</td>\n",
       "      <td>2.112676</td>\n",
       "    </tr>\n",
       "    <tr>\n",
       "      <th>2014</th>\n",
       "      <td>11</td>\n",
       "      <td>2014</td>\n",
       "      <td>0.323434</td>\n",
       "      <td>1.383648</td>\n",
       "    </tr>\n",
       "    <tr>\n",
       "      <th>2012</th>\n",
       "      <td>14</td>\n",
       "      <td>2012</td>\n",
       "      <td>0.446144</td>\n",
       "      <td>2.089552</td>\n",
       "    </tr>\n",
       "    <tr>\n",
       "      <th>2010</th>\n",
       "      <td>17</td>\n",
       "      <td>2010</td>\n",
       "      <td>0.621800</td>\n",
       "      <td>2.647975</td>\n",
       "    </tr>\n",
       "    <tr>\n",
       "      <th>2009</th>\n",
       "      <td>1</td>\n",
       "      <td>2009</td>\n",
       "      <td>0.053362</td>\n",
       "      <td>100.000000</td>\n",
       "    </tr>\n",
       "    <tr>\n",
       "      <th>2008</th>\n",
       "      <td>8</td>\n",
       "      <td>2008</td>\n",
       "      <td>0.399800</td>\n",
       "      <td>1.290323</td>\n",
       "    </tr>\n",
       "    <tr>\n",
       "      <th>2006</th>\n",
       "      <td>6</td>\n",
       "      <td>2006</td>\n",
       "      <td>0.314630</td>\n",
       "      <td>1.169591</td>\n",
       "    </tr>\n",
       "    <tr>\n",
       "      <th>2004</th>\n",
       "      <td>1</td>\n",
       "      <td>2004</td>\n",
       "      <td>0.057870</td>\n",
       "      <td>1.176471</td>\n",
       "    </tr>\n",
       "    <tr>\n",
       "      <th>1991</th>\n",
       "      <td>2</td>\n",
       "      <td>1991</td>\n",
       "      <td>0.502513</td>\n",
       "      <td>7.407407</td>\n",
       "    </tr>\n",
       "    <tr>\n",
       "      <th>1989</th>\n",
       "      <td>1</td>\n",
       "      <td>1989</td>\n",
       "      <td>0.298507</td>\n",
       "      <td>2.127660</td>\n",
       "    </tr>\n",
       "  </tbody>\n",
       "</table>\n",
       "</div>"
      ],
      "text/plain": [
       "      Count  Year   Percent  absPercent\n",
       "2020     81  2020  3.043968    3.121387\n",
       "2019    127  2019  2.709044    3.044833\n",
       "2018     75  2018  1.655629    2.227502\n",
       "2017     62  2017  1.858513    2.448657\n",
       "2016     43  2016  1.074731    2.520516\n",
       "2015      3  2015  0.108225    2.112676\n",
       "2014     11  2014  0.323434    1.383648\n",
       "2012     14  2012  0.446144    2.089552\n",
       "2010     17  2010  0.621800    2.647975\n",
       "2009      1  2009  0.053362  100.000000\n",
       "2008      8  2008  0.399800    1.290323\n",
       "2006      6  2006  0.314630    1.169591\n",
       "2004      1  2004  0.057870    1.176471\n",
       "1991      2  1991  0.502513    7.407407\n",
       "1989      1  1989  0.298507    2.127660"
      ]
     },
     "execution_count": 38,
     "metadata": {},
     "output_type": "execute_result"
    }
   ],
   "source": [
    "nuance_df"
   ]
  },
  {
   "cell_type": "code",
   "execution_count": 45,
   "metadata": {},
   "outputs": [],
   "source": [
    "nuance_df = nuance_df[(nuance_df['Year']>=2000) & (nuance_df['Year']!=2009)]"
   ]
  },
  {
   "cell_type": "code",
   "execution_count": 46,
   "metadata": {},
   "outputs": [
    {
     "data": {
      "text/plain": [
       "<matplotlib.axes._subplots.AxesSubplot at 0x7fcb4aa29bd0>"
      ]
     },
     "execution_count": 46,
     "metadata": {},
     "output_type": "execute_result"
    },
    {
     "data": {
      "image/png": "[encoded data removed]",
      "text/plain": [
       "<Figure size 432x288 with 1 Axes>"
      ]
     },
     "metadata": {
      "needs_background": "light"
     },
     "output_type": "display_data"
    }
   ],
   "source": [
    "sns.lineplot(x=\"Year\", y=\"Count\", data=nuance_df)"
   ]
  },
  {
   "cell_type": "code",
   "execution_count": 47,
   "metadata": {},
   "outputs": [
    {
     "data": {
      "text/plain": [
       "<matplotlib.axes._subplots.AxesSubplot at 0x7fcb4ab7df50>"
      ]
     },
     "execution_count": 47,
     "metadata": {},
     "output_type": "execute_result"
    },
    {
     "data": {
      "image/png": "[encoded data removed]",
      "text/plain": [
       "<Figure size 432x288 with 1 Axes>"
      ]
     },
     "metadata": {
      "needs_background": "light"
     },
     "output_type": "display_data"
    }
   ],
   "source": [
    "sns.lineplot(x=\"Year\", y=\"Percent\", data=nuance_df)"
   ]
  },
  {
   "cell_type": "code",
   "execution_count": 48,
   "metadata": {},
   "outputs": [
    {
     "data": {
      "text/plain": [
       "<matplotlib.axes._subplots.AxesSubplot at 0x7fcb4ac2b7d0>"
      ]
     },
     "execution_count": 48,
     "metadata": {},
     "output_type": "execute_result"
    },
    {
     "data": {
      "image/png": "[encoded data removed]",
      "text/plain": [
       "<Figure size 432x288 with 1 Axes>"
      ]
     },
     "metadata": {
      "needs_background": "light"
     },
     "output_type": "display_data"
    }
   ],
   "source": [
    "sns.lineplot(x=\"Year\", y=\"absPercent\", data=nuance_df)"
   ]
  },
  {
   "cell_type": "code",
   "execution_count": 49,
   "metadata": {
    "scrolled": true
   },
   "outputs": [
    {
     "data": {
      "text/html": [
       "<div>\n",
       "<style scoped>\n",
       "    .dataframe tbody tr th:only-of-type {\n",
       "        vertical-align: middle;\n",
       "    }\n",
       "\n",
       "    .dataframe tbody tr th {\n",
       "        vertical-align: top;\n",
       "    }\n",
       "\n",
       "    .dataframe thead th {\n",
       "        text-align: right;\n",
       "    }\n",
       "</style>\n",
       "<table border=\"1\" class=\"dataframe\">\n",
       "  <thead>\n",
       "    <tr style=\"text-align: right;\">\n",
       "      <th></th>\n",
       "      <th>Count</th>\n",
       "      <th>Year</th>\n",
       "      <th>Percent</th>\n",
       "      <th>absPercent</th>\n",
       "    </tr>\n",
       "  </thead>\n",
       "  <tbody>\n",
       "    <tr>\n",
       "      <th>2020</th>\n",
       "      <td>81</td>\n",
       "      <td>2020</td>\n",
       "      <td>3.043968</td>\n",
       "      <td>3.121387</td>\n",
       "    </tr>\n",
       "    <tr>\n",
       "      <th>2019</th>\n",
       "      <td>127</td>\n",
       "      <td>2019</td>\n",
       "      <td>2.709044</td>\n",
       "      <td>3.044833</td>\n",
       "    </tr>\n",
       "    <tr>\n",
       "      <th>2018</th>\n",
       "      <td>75</td>\n",
       "      <td>2018</td>\n",
       "      <td>1.655629</td>\n",
       "      <td>2.227502</td>\n",
       "    </tr>\n",
       "    <tr>\n",
       "      <th>2017</th>\n",
       "      <td>62</td>\n",
       "      <td>2017</td>\n",
       "      <td>1.858513</td>\n",
       "      <td>2.448657</td>\n",
       "    </tr>\n",
       "    <tr>\n",
       "      <th>2016</th>\n",
       "      <td>43</td>\n",
       "      <td>2016</td>\n",
       "      <td>1.074731</td>\n",
       "      <td>2.520516</td>\n",
       "    </tr>\n",
       "    <tr>\n",
       "      <th>2015</th>\n",
       "      <td>3</td>\n",
       "      <td>2015</td>\n",
       "      <td>0.108225</td>\n",
       "      <td>2.112676</td>\n",
       "    </tr>\n",
       "    <tr>\n",
       "      <th>2014</th>\n",
       "      <td>11</td>\n",
       "      <td>2014</td>\n",
       "      <td>0.323434</td>\n",
       "      <td>1.383648</td>\n",
       "    </tr>\n",
       "    <tr>\n",
       "      <th>2012</th>\n",
       "      <td>14</td>\n",
       "      <td>2012</td>\n",
       "      <td>0.446144</td>\n",
       "      <td>2.089552</td>\n",
       "    </tr>\n",
       "    <tr>\n",
       "      <th>2010</th>\n",
       "      <td>17</td>\n",
       "      <td>2010</td>\n",
       "      <td>0.621800</td>\n",
       "      <td>2.647975</td>\n",
       "    </tr>\n",
       "    <tr>\n",
       "      <th>2008</th>\n",
       "      <td>8</td>\n",
       "      <td>2008</td>\n",
       "      <td>0.399800</td>\n",
       "      <td>1.290323</td>\n",
       "    </tr>\n",
       "    <tr>\n",
       "      <th>2006</th>\n",
       "      <td>6</td>\n",
       "      <td>2006</td>\n",
       "      <td>0.314630</td>\n",
       "      <td>1.169591</td>\n",
       "    </tr>\n",
       "    <tr>\n",
       "      <th>2004</th>\n",
       "      <td>1</td>\n",
       "      <td>2004</td>\n",
       "      <td>0.057870</td>\n",
       "      <td>1.176471</td>\n",
       "    </tr>\n",
       "  </tbody>\n",
       "</table>\n",
       "</div>"
      ],
      "text/plain": [
       "      Count  Year   Percent  absPercent\n",
       "2020     81  2020  3.043968    3.121387\n",
       "2019    127  2019  2.709044    3.044833\n",
       "2018     75  2018  1.655629    2.227502\n",
       "2017     62  2017  1.858513    2.448657\n",
       "2016     43  2016  1.074731    2.520516\n",
       "2015      3  2015  0.108225    2.112676\n",
       "2014     11  2014  0.323434    1.383648\n",
       "2012     14  2012  0.446144    2.089552\n",
       "2010     17  2010  0.621800    2.647975\n",
       "2008      8  2008  0.399800    1.290323\n",
       "2006      6  2006  0.314630    1.169591\n",
       "2004      1  2004  0.057870    1.176471"
      ]
     },
     "execution_count": 49,
     "metadata": {},
     "output_type": "execute_result"
    }
   ],
   "source": [
    "nuance_df"
   ]
  },
  {
   "cell_type": "code",
   "execution_count": 55,
   "metadata": {},
   "outputs": [],
   "source": [
    "nuance_df.reset_index()[['Year', 'Count', 'Percent', 'absPercent']].to_csv('nuance.csv')"
   ]
  },
  {
   "cell_type": "code",
   "execution_count": null,
   "metadata": {},
   "outputs": [],
   "source": []
  }
 ],
 "metadata": {
  "kernelspec": {
   "display_name": "Python 3",
   "language": "python",
   "name": "python3"
  },
  "language_info": {
   "codemirror_mode": {
    "name": "ipython",
    "version": 3
   },
   "file_extension": ".py",
   "mimetype": "text/x-python",
   "name": "python",
   "nbconvert_exporter": "python",
   "pygments_lexer": "ipython3",
   "version": "3.7.6"
  }
 },
 "nbformat": 4,
 "nbformat_minor": 4
}
